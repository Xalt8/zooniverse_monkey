{
 "cells": [
  {
   "cell_type": "code",
   "execution_count": 1,
   "metadata": {},
   "outputs": [],
   "source": [
    "import pandas as pd\n",
    "import matplotlib.pyplot as plt\n",
    "from pathlib import Path\n",
    "import cv2\n",
    "import numpy as np \n",
    "import json\n",
    "from dataclasses import dataclass, field"
   ]
  },
  {
   "cell_type": "code",
   "execution_count": null,
   "metadata": {},
   "outputs": [],
   "source": [
    "Coordinates = tuple[int, int]"
   ]
  },
  {
   "cell_type": "code",
   "execution_count": null,
   "metadata": {},
   "outputs": [],
   "source": [
    "SET5_FOLDER_PATH = Path() / r\"AI Training Sets-20231024T092556Z-001\\AI Training Sets\\Set5-1_WBC_Images\" \n",
    "BASOS_FOLDER_PATH = Path()/ r\"AI Training Sets-20231024T092556Z-001\\AI Training Sets\\Basos_Images\""
   ]
  },
  {
   "cell_type": "code",
   "execution_count": null,
   "metadata": {},
   "outputs": [],
   "source": [
    "with open(r\"labels_basos_2023-11-01-11-49-24.json\") as f:\n",
    "    basos_anno_json = json.load(f)"
   ]
  },
  {
   "cell_type": "code",
   "execution_count": null,
   "metadata": {},
   "outputs": [],
   "source": []
  },
  {
   "cell_type": "code",
   "execution_count": null,
   "metadata": {},
   "outputs": [],
   "source": [
    "basos_anno_json['B014_77I_T19095_RT_x40_z0_i02j07.jpg']['regions']['0']['shape_attributes']['all_points_x']"
   ]
  },
  {
   "cell_type": "code",
   "execution_count": null,
   "metadata": {},
   "outputs": [],
   "source": [
    "@dataclass\n",
    "class Cell:\n",
    "    cell_class:str\n",
    "    cell_location: np.ndarray\n",
    "\n",
    "    def __post_init__(self):\n",
    "        if self.cell_class not in set(['N', 'L', 'M','E','B']):\n",
    "            raise ValueError(\"Cell needs to be of types -> 'N', 'L', 'M','E','B'\") \n",
    "\n",
    "@dataclass\n",
    "class ImageAnnotation:\n",
    "    image_name: str\n",
    "    file_path: str\n",
    "    cells: list[Cell] = field(default=list)\n",
    "\n",
    "    "
   ]
  },
  {
   "cell_type": "code",
   "execution_count": null,
   "metadata": {},
   "outputs": [],
   "source": [
    "neur = Cell(cell_class='N', cell_location=np.array([100, 200]))\n",
    "bas = Cell(cell_class='B', cell_location=np.array([150, 250]))\n"
   ]
  },
  {
   "cell_type": "code",
   "execution_count": null,
   "metadata": {},
   "outputs": [],
   "source": [
    "im = ImageAnnotation(image_name=\"test.png\", file_path='/test/')\n",
    "im.cells = [neur]\n",
    "im.cells.append(bas)\n",
    "im"
   ]
  },
  {
   "cell_type": "code",
   "execution_count": null,
   "metadata": {},
   "outputs": [],
   "source": [
    "def parse_annotations(annotantions_json:json, image_folder_path:str) -> list[ImageAnnotation]:\n",
    "    \"\"\" Takes an json file with polygon annotations and returns a list of ImageAnnotation objects \"\"\"\n",
    "    \n",
    "    annotations = []\n",
    "\n",
    "    for file_name in annotantions_json:\n",
    "        cells = []\n",
    "        for region in annotantions_json[file_name]['regions']:\n",
    "            shape_attributes = annotantions_json[file_name]['regions'][str(region)]['shape_attributes']\n",
    "            region_attribute_label = annotantions_json[file_name]['regions'][str(region)]['region_attributes']['label']\n",
    "            cell_loc = np.array([[x,y] for x,y in zip(shape_attributes['all_points_x'], shape_attributes['all_points_y'])])\n",
    "            cell = Cell(cell_class=region_attribute_label, cell_location=cell_loc)\n",
    "            cells.append(cell)\n",
    "        image_annotation = ImageAnnotation(image_name=file_name, \n",
    "                                           file_path=(image_folder_path/file_name).as_posix(),\n",
    "                                           cells=cells)\n",
    "        annotations.append(image_annotation)            \n",
    "            \n",
    "    return annotations\n"
   ]
  },
  {
   "cell_type": "code",
   "execution_count": null,
   "metadata": {},
   "outputs": [],
   "source": [
    "# for file_name in basos_anno_json:\n",
    "#     print(f\"{file_name= }\")\n",
    "#     for region in basos_anno_json[file_name]['regions']:\n",
    "#         _shape_attributes = basos_anno_json[file_name]['regions'][str(region)]['shape_attributes']\n",
    "#         region_attribute_label = basos_anno_json[file_name]['regions'][str(region)]['region_attributes']['label']\n",
    "#         print(f'{region_attribute_label = }')\n",
    "#         print(f\"{_shape_attributes['all_points_x'] = }\")\n",
    "#         print(f\"{_shape_attributes['all_points_y'] = }\")\n",
    "#         print()\n",
    "#         # annotation = ImageAnnotation(image_name=file_name, file_path=(BASOS_FOLDER_PATH/file_name).as_posix())"
   ]
  },
  {
   "cell_type": "code",
   "execution_count": null,
   "metadata": {},
   "outputs": [],
   "source": [
    "annotations_list = parse_annotations(annotantions_json=basos_anno_json, image_folder_path=BASOS_FOLDER_PATH)"
   ]
  },
  {
   "cell_type": "code",
   "execution_count": null,
   "metadata": {},
   "outputs": [],
   "source": [
    "annotations_list"
   ]
  },
  {
   "cell_type": "code",
   "execution_count": null,
   "metadata": {},
   "outputs": [],
   "source": [
    "def validate_file_path(file_path:str|Path) -> str:\n",
    "    \"\"\" Checks to see if the file path is valid \"\"\"\n",
    "    if not isinstance(file_path, (str, Path)):\n",
    "        raise ValueError(f\"{file_path} must be a str or Path object\")\n",
    "    if isinstance(file_path, str):\n",
    "        file_path = Path(file_path)\n",
    "    if not file_path.is_file():\n",
    "        raise FileNotFoundError(f\"Cannot find this file -> {file_path} \")\n",
    "    return file_path.as_posix()\n",
    "\n",
    "\n",
    "def get_image_from_path(file_path:str | Path) -> np.ndarray:\n",
    "    \"\"\" Takes an file path and returns an image as array \"\"\"\n",
    "    file_path = validate_file_path(file_path= file_path)\n",
    "    img = cv2.imread(filename=file_path) \n",
    "    img = cv2.cvtColor(img, cv2.COLOR_BGR2RGB)\n",
    "    return img"
   ]
  },
  {
   "cell_type": "code",
   "execution_count": null,
   "metadata": {},
   "outputs": [],
   "source": [
    "def draw_image_annotation(annotation:ImageAnnotation) -> None:\n",
    "    _, ax = plt.subplots(figsize=(5,5))\n",
    "    ax.set_title(annotation.image_name, fontsize=8)\n",
    "    img = get_image_from_path(file_path=annotation.file_path)\n",
    "    \n",
    "    cell =  annotation.cells[0]\n",
    "    poly_points = cell.cell_location\n",
    "    # poly_points = poly_points.reshape((-1,1,2))\n",
    "\n",
    "    test_anno = annotations_list[0].cells[0].cell_location.astype(np.int32)\n",
    "    # test_anno.reshape((-1,1,2))\n",
    "\n",
    "    img = cv2.polylines(img, [test_anno], isClosed=True, color=(255,0,0), thickness=2)\n",
    "    ax.imshow(img)\n",
    "    ax.set_xticks([])\n",
    "    ax.set_yticks([])\n",
    "    \n",
    "    plt.show()\n",
    "    "
   ]
  },
  {
   "cell_type": "code",
   "execution_count": null,
   "metadata": {},
   "outputs": [],
   "source": [
    "draw_image_annotation(annotations_list[0])"
   ]
  },
  {
   "cell_type": "code",
   "execution_count": null,
   "metadata": {},
   "outputs": [],
   "source": [
    "test_anno = annotations_list[0].cells[0].cell_location.astype(np.int32)\n",
    "test_anno"
   ]
  },
  {
   "cell_type": "code",
   "execution_count": null,
   "metadata": {},
   "outputs": [],
   "source": [
    "img = get_image_from_path(BASOS_FOLDER_PATH/annotations_list[0].image_name)"
   ]
  },
  {
   "cell_type": "code",
   "execution_count": null,
   "metadata": {},
   "outputs": [],
   "source": [
    "mask = np.zeros_like(img)\n",
    "mask = cv2.fillPoly(mask, [test_anno], (255,255,255))"
   ]
  },
  {
   "cell_type": "code",
   "execution_count": null,
   "metadata": {},
   "outputs": [],
   "source": [
    "mask_gray = cv2.cvtColor(mask, cv2.COLOR_BGR2GRAY)\n",
    "mask_gray.shape"
   ]
  },
  {
   "cell_type": "code",
   "execution_count": null,
   "metadata": {},
   "outputs": [],
   "source": [
    "nonzero_coords = cv2.findNonZero(mask_gray)\n",
    "\n",
    "# Calculate the shape properties\n",
    "x, y, width, height = cv2.boundingRect(nonzero_coords)\n",
    "# area = cv2.contourArea(nonzero_coords)\n",
    "# perimeter = cv2.arcLength(nonzero_coords, closed=True)\n"
   ]
  },
  {
   "cell_type": "code",
   "execution_count": null,
   "metadata": {},
   "outputs": [],
   "source": [
    "x, y, width, height"
   ]
  },
  {
   "cell_type": "code",
   "execution_count": null,
   "metadata": {},
   "outputs": [],
   "source": [
    "plt.imshow(mask)\n",
    "plt.show()"
   ]
  },
  {
   "cell_type": "code",
   "execution_count": null,
   "metadata": {},
   "outputs": [],
   "source": [
    "import matplotlib.patches as patches\n",
    "\n",
    "\n",
    "gray_img = cv2.cvtColor(img, cv2.COLOR_RGB2GRAY)\n",
    "\n",
    "ret, binary = cv2.threshold(gray_img, 0, 255, cv2.THRESH_BINARY + cv2.THRESH_OTSU)\n",
    "\n",
    "\n",
    "fig, ax = plt.subplots(nrows=1, ncols=2, figsize=(15,6))\n",
    "\n",
    "ax[0].set_title(\"Original\")\n",
    "ax[0].imshow(img)\n",
    "ax[0].add_patch(patches.Rectangle(xy=(x,y), width=width, height=height, linewidth=1, edgecolor='r', facecolor='none'))\n",
    "ax[0].add_patch(patches.Rectangle(xy=(24,133), width=width, height=height, linewidth=1, edgecolor='green', facecolor='none'))\n",
    "\n",
    "# ax[1].set_title(\"Gray Image\")\n",
    "# ax[1].imshow(gray_img, cmap='grey')\n",
    "\n",
    "ax[1].set_title(\"Binary Threshold\")\n",
    "ax[1].imshow(binary, cmap='grey')\n",
    "\n",
    "\n",
    "plt.show()"
   ]
  },
  {
   "cell_type": "code",
   "execution_count": null,
   "metadata": {},
   "outputs": [],
   "source": [
    "image_height, image_width = binary.shape\n",
    "image_height, image_width, width, height"
   ]
  },
  {
   "cell_type": "code",
   "execution_count": null,
   "metadata": {},
   "outputs": [],
   "source": [
    "for y_ in range(0, image_height - height + 1):\n",
    "    for x_ in range(0, image_width - width + 1):\n",
    "        # Extract the region of interest (ROI) using the window size\n",
    "        roi_ = binary[y_:y_ + height, x_:x_ + width]\n",
    "        if not 0 in roi_:\n",
    "            print(x_, y_ )\n"
   ]
  },
  {
   "cell_type": "code",
   "execution_count": null,
   "metadata": {},
   "outputs": [],
   "source": [
    "# def copy_paste_cell(img:np.ndarray, )\n",
    "\n",
    "copied_region = cv2.bitwise_and(img, mask)"
   ]
  },
  {
   "cell_type": "code",
   "execution_count": null,
   "metadata": {},
   "outputs": [],
   "source": [
    "copied_region.shape"
   ]
  },
  {
   "cell_type": "code",
   "execution_count": null,
   "metadata": {},
   "outputs": [],
   "source": [
    "test_anno"
   ]
  },
  {
   "cell_type": "code",
   "execution_count": null,
   "metadata": {},
   "outputs": [],
   "source": [
    "roi = img[np.min(test_anno[:,1]) : np.max(test_anno[:,1]), np.min(test_anno[:,0]) : np.max(test_anno[:,0])]\n",
    "plt.imshow(roi)\n",
    "plt.axis('off')\n",
    "plt.title('ROI')\n",
    "plt.show()"
   ]
  },
  {
   "cell_type": "code",
   "execution_count": null,
   "metadata": {},
   "outputs": [],
   "source": [
    "roi.shape, width, height"
   ]
  },
  {
   "cell_type": "code",
   "execution_count": null,
   "metadata": {},
   "outputs": [],
   "source": [
    "\n",
    "src1_mask = cv2.cvtColor(img.copy(),cv2.COLOR_BGR2GRAY)\n",
    "src1_mask.fill(0)\n",
    "mask_inv = cv2.bitwise_not(src1_mask)\n",
    "mask2 = src1_mask[np.min(test_anno[:,1]):np.max(test_anno[:,1]),np.min(test_anno[:,0]):np.max(test_anno[:,0])]\n",
    "\n",
    "\n",
    "img1_bg = cv2.bitwise_and(roi,mask_inv)\n",
    "\n",
    "# m2 = src1_mask[np.min(poly[:,1]):np.max(poly[:,1]),np.min(poly[:,0]):np.max(poly[:,0])]\n",
    "\n",
    "# img1_bg = cv2.bitwise_and(roi,roi,mask = mask_inv)\n",
    "\n",
    "plt.imshow(mask2, cmap='gray')\n",
    "plt.show()\n",
    "\n"
   ]
  },
  {
   "cell_type": "code",
   "execution_count": null,
   "metadata": {},
   "outputs": [],
   "source": [
    "copied_height, copied_width, _ = copied_region.shape\n",
    "copied_height, copied_width"
   ]
  },
  {
   "cell_type": "code",
   "execution_count": null,
   "metadata": {},
   "outputs": [],
   "source": [
    "destination_x, destination_y = 24,133"
   ]
  },
  {
   "cell_type": "code",
   "execution_count": null,
   "metadata": {},
   "outputs": [],
   "source": [
    "new_region = img.copy()\n",
    "plt.imshow(new_region)\n",
    "plt.show()"
   ]
  },
  {
   "cell_type": "code",
   "execution_count": null,
   "metadata": {},
   "outputs": [],
   "source": [
    "mat = np.zeros((10,10,3), dtype=np.int32)\n",
    "mat[0,5,:] = [255,0,0]\n",
    "mat[1,4:7,:] = [255,25,255]\n",
    "mat[2,5,:] = [255,0,0]"
   ]
  },
  {
   "cell_type": "code",
   "execution_count": null,
   "metadata": {},
   "outputs": [],
   "source": [
    "plt.imshow(mat)\n",
    "plt.show()"
   ]
  },
  {
   "cell_type": "code",
   "execution_count": null,
   "metadata": {},
   "outputs": [],
   "source": [
    "non_zero_mask = np.any(mat!=[0,0,0], axis=2)\n",
    "gray_mask = non_zero_mask * 255"
   ]
  },
  {
   "cell_type": "code",
   "execution_count": null,
   "metadata": {},
   "outputs": [],
   "source": [
    "plt.imshow(gray_mask, cmap='gray')\n",
    "plt.show()"
   ]
  },
  {
   "cell_type": "code",
   "execution_count": null,
   "metadata": {},
   "outputs": [],
   "source": [
    "img_indices = np.where(gray_mask!=0)\n",
    "img_indices"
   ]
  },
  {
   "cell_type": "code",
   "execution_count": null,
   "metadata": {},
   "outputs": [],
   "source": [
    "roi_box = mat[np.min(img_indices[0]) : np.max(img_indices[0] + 1), np.min(img_indices[1]) : np.max(img_indices[1] + 1)] "
   ]
  },
  {
   "cell_type": "code",
   "execution_count": null,
   "metadata": {},
   "outputs": [],
   "source": [
    "plt.imshow(roi_box)\n",
    "plt.axis('off')\n",
    "plt.show()"
   ]
  },
  {
   "cell_type": "code",
   "execution_count": null,
   "metadata": {},
   "outputs": [],
   "source": [
    "non_zero_mask_box = np.any(roi_box!=[0,0,0], axis=2)\n",
    "gray_mask_box = non_zero_mask_box * 255"
   ]
  },
  {
   "cell_type": "code",
   "execution_count": null,
   "metadata": {},
   "outputs": [],
   "source": [
    "# 0 -> black, 255-> white\n",
    "np.all(mat[0:3,0:3] == np.zeros_like(mat[0:3,0:3]))\n"
   ]
  },
  {
   "cell_type": "code",
   "execution_count": null,
   "metadata": {},
   "outputs": [],
   "source": [
    "plt.imshow(gray_mask_box, cmap='gray')\n",
    "plt.show()"
   ]
  },
  {
   "cell_type": "code",
   "execution_count": null,
   "metadata": {},
   "outputs": [],
   "source": [
    "shape_indices = np.where(gray_mask_box!=0) \n",
    "shape_indices"
   ]
  },
  {
   "cell_type": "code",
   "execution_count": null,
   "metadata": {},
   "outputs": [],
   "source": [
    "row_start, row_end = np.min(img_indices[0]) , np.max(img_indices[0] + 1)\n",
    "col_start, col_end = np.min(img_indices[1]) , np.max(img_indices[1] + 1)\n",
    "\n",
    "row_offset, col_offset = row_end-row_start, col_end-col_start"
   ]
  },
  {
   "cell_type": "code",
   "execution_count": null,
   "metadata": {},
   "outputs": [],
   "source": [
    "new_box = np.ones_like(roi_box) * 200\n",
    "new_box[shape_indices[0], shape_indices[1]] = roi_box[shape_indices[0], shape_indices[1]]\n",
    "plt.imshow(new_box)\n",
    "plt.show()"
   ]
  },
  {
   "cell_type": "code",
   "execution_count": null,
   "metadata": {},
   "outputs": [],
   "source": [
    "for row_i in range(mat.shape[0] - row_offset + 1):\n",
    "    for col_i in range(mat.shape[1] - col_offset + 1):\n",
    "        box = mat[row_i:row_i+row_offset, col_i:col_i+col_offset]\n",
    "        if np.all(box == np.zeros_like(box)):\n",
    "            box[shape_indices[0], shape_indices[1]] = roi_box[shape_indices[0], shape_indices[1]]"
   ]
  },
  {
   "cell_type": "code",
   "execution_count": null,
   "metadata": {},
   "outputs": [],
   "source": [
    "plt.imshow(mat)\n",
    "plt.show()"
   ]
  },
  {
   "cell_type": "code",
   "execution_count": null,
   "metadata": {},
   "outputs": [],
   "source": []
  },
  {
   "cell_type": "code",
   "execution_count": null,
   "metadata": {},
   "outputs": [],
   "source": []
  },
  {
   "cell_type": "code",
   "execution_count": null,
   "metadata": {},
   "outputs": [],
   "source": []
  },
  {
   "cell_type": "code",
   "execution_count": null,
   "metadata": {},
   "outputs": [],
   "source": []
  },
  {
   "cell_type": "markdown",
   "metadata": {},
   "source": [
    "#012 Blending and Pasting Images Using OpenCV<br>\n",
    "https://datahacker.rs/012-blending-and-pasting-images-using-opencv/"
   ]
  },
  {
   "cell_type": "code",
   "execution_count": null,
   "metadata": {},
   "outputs": [],
   "source": [
    "# https://datahacker.rs/012-blending-and-pasting-images-using-opencv/"
   ]
  },
  {
   "cell_type": "code",
   "execution_count": null,
   "metadata": {},
   "outputs": [],
   "source": [
    "tt.shape"
   ]
  },
  {
   "cell_type": "code",
   "execution_count": null,
   "metadata": {},
   "outputs": [],
   "source": [
    "arr = np.array([[1, 2, 3],\n",
    "                [4, 5, 6],\n",
    "                [7, 8, 9]])\n",
    "\n",
    "# Iterate over 3 rows and 3 columns at once using nested loops\n",
    "for i in range(3):\n",
    "    for j in range(3):\n",
    "        value = arr[i, j]\n",
    "        print(value)"
   ]
  },
  {
   "cell_type": "code",
   "execution_count": null,
   "metadata": {},
   "outputs": [],
   "source": []
  }
 ],
 "metadata": {
  "kernelspec": {
   "display_name": "env",
   "language": "python",
   "name": "python3"
  },
  "language_info": {
   "codemirror_mode": {
    "name": "ipython",
    "version": 3
   },
   "file_extension": ".py",
   "mimetype": "text/x-python",
   "name": "python",
   "nbconvert_exporter": "python",
   "pygments_lexer": "ipython3",
   "version": "3.11.4"
  }
 },
 "nbformat": 4,
 "nbformat_minor": 2
}
