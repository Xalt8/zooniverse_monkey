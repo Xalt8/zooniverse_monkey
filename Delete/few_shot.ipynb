{
 "cells": [
  {
   "cell_type": "code",
   "execution_count": 1,
   "metadata": {},
   "outputs": [],
   "source": [
    "from pathlib import Path\n",
    "import functions as funcs \n",
    "import numpy as np\n",
    "import tensorflow"
   ]
  },
  {
   "cell_type": "markdown",
   "metadata": {},
   "source": [
    "- 5-way-n-shot classification -> contains 5 classes\n",
    "- Make a dataset with 5-way-2-shot -> 2 images per class and 1/2 query images"
   ]
  },
  {
   "cell_type": "code",
   "execution_count": 2,
   "metadata": {},
   "outputs": [],
   "source": [
    "IMAGES_FOLDER = Path() / r\"AI Training Sets-20231024T092556Z-001\\AI Training Sets\\Few_Shot_Images\""
   ]
  },
  {
   "cell_type": "code",
   "execution_count": 3,
   "metadata": {},
   "outputs": [],
   "source": [
    "def get_image_label(file_path:str) -> tuple[np.ndarray, str]:\n",
    "    \"\"\" Takes a file path and returns the image and image label \"\"\"\n",
    "    img = funcs.get_image_from_path(file_path=file_path)\n",
    "    file_path:Path = Path() / file_path\n",
    "    label = file_path.parent.name\n",
    "    return img, label\n"
   ]
  },
  {
   "cell_type": "code",
   "execution_count": 4,
   "metadata": {},
   "outputs": [],
   "source": [
    "support_images = []\n",
    "support_labels = []\n",
    "\n",
    "query_images = []\n",
    "query_labels = []\n",
    "\n",
    "for class_folder in IMAGES_FOLDER.iterdir():\n",
    "    for i, image in enumerate(class_folder.iterdir()):\n",
    "        if i < 2:\n",
    "            img, label = get_image_label(file_path=image.as_posix())\n",
    "            support_images.append(img)\n",
    "            support_labels.append(label)\n",
    "        else:\n",
    "            img, label = get_image_label(file_path=image.as_posix())\n",
    "            query_images.append(img)\n",
    "            query_labels.append(label)"
   ]
  },
  {
   "cell_type": "code",
   "execution_count": 6,
   "metadata": {},
   "outputs": [],
   "source": [
    "from tensorflow.keras.applications.vgg16 import VGG16\n",
    "from tensorflow.keras.preprocessing import image\n",
    "from tensorflow.keras.applications.vgg16 import preprocess_input"
   ]
  },
  {
   "cell_type": "code",
   "execution_count": 7,
   "metadata": {},
   "outputs": [],
   "source": [
    "model = VGG16(weights='imagenet', include_top=False)"
   ]
  },
  {
   "cell_type": "code",
   "execution_count": 12,
   "metadata": {},
   "outputs": [],
   "source": [
    "img = support_images[0]\n",
    "x = np.expand_dims(img, axis=0)\n",
    "x = preprocess_input(x)"
   ]
  },
  {
   "cell_type": "code",
   "execution_count": 13,
   "metadata": {},
   "outputs": [
    {
     "data": {
      "text/plain": [
       "(1, 81, 59, 3)"
      ]
     },
     "execution_count": 13,
     "metadata": {},
     "output_type": "execute_result"
    }
   ],
   "source": [
    "x.shape"
   ]
  },
  {
   "cell_type": "code",
   "execution_count": null,
   "metadata": {},
   "outputs": [],
   "source": []
  }
 ],
 "metadata": {
  "kernelspec": {
   "display_name": "env",
   "language": "python",
   "name": "python3"
  },
  "language_info": {
   "codemirror_mode": {
    "name": "ipython",
    "version": 3
   },
   "file_extension": ".py",
   "mimetype": "text/x-python",
   "name": "python",
   "nbconvert_exporter": "python",
   "pygments_lexer": "ipython3",
   "version": "3.11.4"
  }
 },
 "nbformat": 4,
 "nbformat_minor": 2
}
